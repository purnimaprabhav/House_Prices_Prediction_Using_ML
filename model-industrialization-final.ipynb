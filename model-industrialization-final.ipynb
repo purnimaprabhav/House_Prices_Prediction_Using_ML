{
 "cells": [
  {
   "cell_type": "markdown",
   "metadata": {},
   "source": [
    "# Model Building"
   ]
  },
  {
   "cell_type": "code",
   "execution_count": 15,
   "metadata": {},
   "outputs": [
    {
     "name": "stdout",
     "output_type": "stream",
     "text": [
      "{'Mean Squared Error': 934887700.14471, 'R-squared': 0.8781163049794783}\n"
     ]
    }
   ],
   "source": [
    "import sys\n",
    "import os\n",
    "import pandas as pd\n",
    "\n",
    "sys.path.append(os.path.abspath('/Users/purnimaprabha/dsp-purnima-prabha'))\n",
    "from house_prices.train import build_model\n",
    "training_data_df = pd.read_csv('/Users/purnimaprabha/dsp-purnima-prabha/house_prices/train.csv')\n",
    "test_data_df = pd.read_csv('/Users/purnimaprabha/dsp-purnima-prabha/house_prices/test.csv')\n",
    "model_performance_dict = build_model(training_data_df, test_data_df)\n",
    "print(model_performance_dict)"
   ]
  },
  {
   "cell_type": "markdown",
   "metadata": {},
   "source": [
    "# Model Inference"
   ]
  },
  {
   "cell_type": "code",
   "execution_count": 22,
   "metadata": {
    "vscode": {
     "languageId": "plaintext"
    }
   },
   "outputs": [
    {
     "name": "stdout",
     "output_type": "stream",
     "text": [
      "Warning: The number of features does not match the model's expected input!\n",
      "Expected features: 16, but got 50 features.\n",
      "       Id      SalePrice\n",
      "0     893  142587.500000\n",
      "1    1106  304581.080000\n",
      "2     414  115419.000000\n",
      "3     523  159223.000000\n",
      "4    1037  307459.460000\n",
      "..    ...            ...\n",
      "287   480  124270.000000\n",
      "288  1362  212340.450000\n",
      "289   803  196561.900000\n",
      "290   652  113501.160000\n",
      "291   723  116878.083333\n",
      "\n",
      "[292 rows x 2 columns]\n"
     ]
    }
   ],
   "source": [
    "import pandas as pd\n",
    "from house_prices.inference import make_predictions\n",
    "user_data_df = pd.read_csv('/Users/purnimaprabha/dsp-purnima-prabha/house_prices/test.csv')\n",
    "predictions = make_predictions(user_data_df)\n",
    "print(predictions)"
   ]
  },
  {
   "cell_type": "code",
   "execution_count": null,
   "metadata": {},
   "outputs": [],
   "source": []
  }
 ],
 "metadata": {
  "kernelspec": {
   "display_name": "Python 3 (ipykernel)",
   "language": "python",
   "name": "python3"
  },
  "language_info": {
   "codemirror_mode": {
    "name": "ipython",
    "version": 3
   },
   "file_extension": ".py",
   "mimetype": "text/x-python",
   "name": "python",
   "nbconvert_exporter": "python",
   "pygments_lexer": "ipython3",
   "version": "3.12.7"
  }
 },
 "nbformat": 4,
 "nbformat_minor": 4
}
