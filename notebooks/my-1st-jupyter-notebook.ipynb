{
 "cells": [
  {
   "cell_type": "code",
   "execution_count": 7,
   "id": "138e041f-50ac-43f4-8bc3-5fadd17df6eb",
   "metadata": {},
   "outputs": [
    {
     "data": {
      "text/plain": [
       "array([[8, 2, 8],\n",
       "       [6, 5, 7],\n",
       "       [1, 1, 0],\n",
       "       [2, 1, 0],\n",
       "       [8, 9, 5],\n",
       "       [5, 4, 9],\n",
       "       [8, 4, 3],\n",
       "       [0, 0, 9],\n",
       "       [2, 2, 1],\n",
       "       [8, 7, 5]])"
      ]
     },
     "metadata": {},
     "output_type": "display_data"
    }
   ],
   "source": [
    "import numpy as np\n",
    "from IPython.display import display\n",
    "\n",
    "my_array = np.random.randint(0, 10, size=(10, 3))\n",
    "\n",
    "display(my_array)\n"
   ]
  },
  {
   "cell_type": "code",
   "execution_count": null,
   "id": "6d84f914-3af2-4dec-8468-b259818f02bb",
   "metadata": {},
   "outputs": [],
   "source": []
  }
 ],
 "metadata": {
  "kernelspec": {
   "display_name": "Python 3 (ipykernel)",
   "language": "python",
   "name": "python3"
  },
  "language_info": {
   "codemirror_mode": {
    "name": "ipython",
    "version": 3
   },
   "file_extension": ".py",
   "mimetype": "text/x-python",
   "name": "python",
   "nbconvert_exporter": "python",
   "pygments_lexer": "ipython3",
   "version": "3.9.21"
  }
 },
 "nbformat": 4,
 "nbformat_minor": 5
}
