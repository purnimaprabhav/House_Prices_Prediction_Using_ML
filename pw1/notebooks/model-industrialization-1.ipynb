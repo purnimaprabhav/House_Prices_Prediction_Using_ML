{
 "cells": [
  {
   "cell_type": "markdown",
   "id": "8e4f2246-841e-4150-b90a-c90761075184",
   "metadata": {},
   "source": [
    "# Importing modules and loading datasets"
   ]
  },
  {
   "cell_type": "code",
   "execution_count": 63,
   "id": "2dfda526-16d1-4cbb-8a73-3bdbd3e961cc",
   "metadata": {
    "scrolled": true
   },
   "outputs": [
    {
     "data": {
      "text/html": [
       "<div>\n",
       "<style scoped>\n",
       "    .dataframe tbody tr th:only-of-type {\n",
       "        vertical-align: middle;\n",
       "    }\n",
       "\n",
       "    .dataframe tbody tr th {\n",
       "        vertical-align: top;\n",
       "    }\n",
       "\n",
       "    .dataframe thead th {\n",
       "        text-align: right;\n",
       "    }\n",
       "</style>\n",
       "<table border=\"1\" class=\"dataframe\">\n",
       "  <thead>\n",
       "    <tr style=\"text-align: right;\">\n",
       "      <th></th>\n",
       "      <th>Id</th>\n",
       "      <th>MSSubClass</th>\n",
       "      <th>MSZoning</th>\n",
       "      <th>LotFrontage</th>\n",
       "      <th>LotArea</th>\n",
       "      <th>Street</th>\n",
       "      <th>Alley</th>\n",
       "      <th>LotShape</th>\n",
       "      <th>LandContour</th>\n",
       "      <th>Utilities</th>\n",
       "      <th>...</th>\n",
       "      <th>PoolArea</th>\n",
       "      <th>PoolQC</th>\n",
       "      <th>Fence</th>\n",
       "      <th>MiscFeature</th>\n",
       "      <th>MiscVal</th>\n",
       "      <th>MoSold</th>\n",
       "      <th>YrSold</th>\n",
       "      <th>SaleType</th>\n",
       "      <th>SaleCondition</th>\n",
       "      <th>SalePrice</th>\n",
       "    </tr>\n",
       "  </thead>\n",
       "  <tbody>\n",
       "    <tr>\n",
       "      <th>0</th>\n",
       "      <td>1</td>\n",
       "      <td>60</td>\n",
       "      <td>RL</td>\n",
       "      <td>65.0</td>\n",
       "      <td>8450</td>\n",
       "      <td>Pave</td>\n",
       "      <td>NaN</td>\n",
       "      <td>Reg</td>\n",
       "      <td>Lvl</td>\n",
       "      <td>AllPub</td>\n",
       "      <td>...</td>\n",
       "      <td>0</td>\n",
       "      <td>NaN</td>\n",
       "      <td>NaN</td>\n",
       "      <td>NaN</td>\n",
       "      <td>0</td>\n",
       "      <td>2</td>\n",
       "      <td>2008</td>\n",
       "      <td>WD</td>\n",
       "      <td>Normal</td>\n",
       "      <td>208500</td>\n",
       "    </tr>\n",
       "    <tr>\n",
       "      <th>1</th>\n",
       "      <td>2</td>\n",
       "      <td>20</td>\n",
       "      <td>RL</td>\n",
       "      <td>80.0</td>\n",
       "      <td>9600</td>\n",
       "      <td>Pave</td>\n",
       "      <td>NaN</td>\n",
       "      <td>Reg</td>\n",
       "      <td>Lvl</td>\n",
       "      <td>AllPub</td>\n",
       "      <td>...</td>\n",
       "      <td>0</td>\n",
       "      <td>NaN</td>\n",
       "      <td>NaN</td>\n",
       "      <td>NaN</td>\n",
       "      <td>0</td>\n",
       "      <td>5</td>\n",
       "      <td>2007</td>\n",
       "      <td>WD</td>\n",
       "      <td>Normal</td>\n",
       "      <td>181500</td>\n",
       "    </tr>\n",
       "    <tr>\n",
       "      <th>2</th>\n",
       "      <td>3</td>\n",
       "      <td>60</td>\n",
       "      <td>RL</td>\n",
       "      <td>68.0</td>\n",
       "      <td>11250</td>\n",
       "      <td>Pave</td>\n",
       "      <td>NaN</td>\n",
       "      <td>IR1</td>\n",
       "      <td>Lvl</td>\n",
       "      <td>AllPub</td>\n",
       "      <td>...</td>\n",
       "      <td>0</td>\n",
       "      <td>NaN</td>\n",
       "      <td>NaN</td>\n",
       "      <td>NaN</td>\n",
       "      <td>0</td>\n",
       "      <td>9</td>\n",
       "      <td>2008</td>\n",
       "      <td>WD</td>\n",
       "      <td>Normal</td>\n",
       "      <td>223500</td>\n",
       "    </tr>\n",
       "    <tr>\n",
       "      <th>3</th>\n",
       "      <td>4</td>\n",
       "      <td>70</td>\n",
       "      <td>RL</td>\n",
       "      <td>60.0</td>\n",
       "      <td>9550</td>\n",
       "      <td>Pave</td>\n",
       "      <td>NaN</td>\n",
       "      <td>IR1</td>\n",
       "      <td>Lvl</td>\n",
       "      <td>AllPub</td>\n",
       "      <td>...</td>\n",
       "      <td>0</td>\n",
       "      <td>NaN</td>\n",
       "      <td>NaN</td>\n",
       "      <td>NaN</td>\n",
       "      <td>0</td>\n",
       "      <td>2</td>\n",
       "      <td>2006</td>\n",
       "      <td>WD</td>\n",
       "      <td>Abnorml</td>\n",
       "      <td>140000</td>\n",
       "    </tr>\n",
       "    <tr>\n",
       "      <th>4</th>\n",
       "      <td>5</td>\n",
       "      <td>60</td>\n",
       "      <td>RL</td>\n",
       "      <td>84.0</td>\n",
       "      <td>14260</td>\n",
       "      <td>Pave</td>\n",
       "      <td>NaN</td>\n",
       "      <td>IR1</td>\n",
       "      <td>Lvl</td>\n",
       "      <td>AllPub</td>\n",
       "      <td>...</td>\n",
       "      <td>0</td>\n",
       "      <td>NaN</td>\n",
       "      <td>NaN</td>\n",
       "      <td>NaN</td>\n",
       "      <td>0</td>\n",
       "      <td>12</td>\n",
       "      <td>2008</td>\n",
       "      <td>WD</td>\n",
       "      <td>Normal</td>\n",
       "      <td>250000</td>\n",
       "    </tr>\n",
       "  </tbody>\n",
       "</table>\n",
       "<p>5 rows × 81 columns</p>\n",
       "</div>"
      ],
      "text/plain": [
       "   Id  MSSubClass MSZoning  LotFrontage  LotArea Street Alley LotShape  \\\n",
       "0   1          60       RL         65.0     8450   Pave   NaN      Reg   \n",
       "1   2          20       RL         80.0     9600   Pave   NaN      Reg   \n",
       "2   3          60       RL         68.0    11250   Pave   NaN      IR1   \n",
       "3   4          70       RL         60.0     9550   Pave   NaN      IR1   \n",
       "4   5          60       RL         84.0    14260   Pave   NaN      IR1   \n",
       "\n",
       "  LandContour Utilities  ... PoolArea PoolQC Fence MiscFeature MiscVal MoSold  \\\n",
       "0         Lvl    AllPub  ...        0    NaN   NaN         NaN       0      2   \n",
       "1         Lvl    AllPub  ...        0    NaN   NaN         NaN       0      5   \n",
       "2         Lvl    AllPub  ...        0    NaN   NaN         NaN       0      9   \n",
       "3         Lvl    AllPub  ...        0    NaN   NaN         NaN       0      2   \n",
       "4         Lvl    AllPub  ...        0    NaN   NaN         NaN       0     12   \n",
       "\n",
       "  YrSold  SaleType  SaleCondition  SalePrice  \n",
       "0   2008        WD         Normal     208500  \n",
       "1   2007        WD         Normal     181500  \n",
       "2   2008        WD         Normal     223500  \n",
       "3   2006        WD        Abnorml     140000  \n",
       "4   2008        WD         Normal     250000  \n",
       "\n",
       "[5 rows x 81 columns]"
      ]
     },
     "execution_count": 63,
     "metadata": {},
     "output_type": "execute_result"
    }
   ],
   "source": [
    "import pandas as pd\n",
    "import numpy as np\n",
    "from sklearn.impute import SimpleImputer\n",
    "from sklearn.preprocessing import StandardScaler, OneHotEncoder\n",
    "from sklearn.ensemble import RandomForestRegressor\n",
    "from sklearn.model_selection import train_test_split\n",
    "from sklearn.metrics import mean_squared_log_error\n",
    "import joblib\n",
    "train_df = pd.read_csv('/Users/purnimaprabha/Downloads/house-prices-advanced-regression-techniques/train.csv') \n",
    "test_df = pd.read_csv('/Users/purnimaprabha/Downloads/house-prices-advanced-regression-techniques/test.csv')\n",
    "train_df.head()"
   ]
  },
  {
   "cell_type": "markdown",
   "id": "3e58eec5-d4a0-431e-a95c-8d9362845797",
   "metadata": {},
   "source": [
    "# Model building function"
   ]
  },
  {
   "cell_type": "code",
   "execution_count": 67,
   "id": "6ce92ba6-0692-4899-9cfd-181490c2d603",
   "metadata": {},
   "outputs": [],
   "source": [
    "def build_model(data: pd.DataFrame) -> dict[str, str]:\n",
    "    num_features = ['GrLivArea', '1stFlrSF']\n",
    "    cat_features = ['SaleCondition', 'HouseStyle']\n",
    "    select_features = num_features + cat_features\n",
    "\n",
    "    X = data[select_features]\n",
    "    y = data['SalePrice']\n",
    "    X_train, X_valid, y_train, y_valid = train_test_split(X, y, test_size=0.2, random_state=42)\n",
    "\n",
    "    # Preprocessing\n",
    "    cat_imputer = SimpleImputer(strategy='most_frequent')\n",
    "    encoder = OneHotEncoder(handle_unknown='ignore', sparse_output=False)\n",
    "    scaler = StandardScaler()\n",
    "\n",
    "    # Fit and transform on training data\n",
    "    X_train_cat = pd.DataFrame(cat_imputer.fit_transform(X_train[cat_features]), columns=cat_features)\n",
    "    X_train_cat_encoded = encoder.fit_transform(X_train_cat)\n",
    "    X_train_num_scaled = scaler.fit_transform(X_train[num_features])\n",
    "\n",
    "    X_train_transformed = np.hstack([X_train_cat_encoded, X_train_num_scaled])\n",
    "\n",
    "    # Train model\n",
    "    model = RandomForestRegressor(n_estimators=100, random_state=42)\n",
    "    model.fit(X_train_transformed, y_train)\n",
    "\n",
    "    # Save the model and preprocessing objects\n",
    "    joblib.dump(model, 'models/model.joblib')\n",
    "    joblib.dump(cat_imputer, 'models/cat_imputer.joblib')\n",
    "    joblib.dump(encoder, 'models/encoder.joblib')\n",
    "    joblib.dump(scaler, 'models/scaler.joblib')\n",
    "\n",
    "    # Evaluate model on validation data\n",
    "    X_valid_cat = pd.DataFrame(cat_imputer.transform(X_valid[cat_features]), columns=cat_features)\n",
    "    X_valid_cat_encoded = encoder.transform(X_valid_cat)\n",
    "    X_valid_num_scaled = scaler.transform(X_valid[num_features])\n",
    "\n",
    "    X_valid_transformed = np.hstack([X_valid_cat_encoded, X_valid_num_scaled])\n",
    "\n",
    "    y_pred = model.predict(X_valid_transformed)\n",
    "    y_pred = np.maximum(0, y_pred)\n",
    "\n",
    "    rmsle = compute_rmsle(y_valid, y_pred)\n",
    "    \n",
    "    return {'rmsle': rmsle}"
   ]
  },
  {
   "cell_type": "markdown",
   "id": "fcd8a4ca-cf75-4156-aa78-bba54dcc469b",
   "metadata": {},
   "source": [
    "# Making predictions function"
   ]
  },
  {
   "cell_type": "code",
   "execution_count": 73,
   "id": "f7bd643e-c5b0-428d-ae8c-162d75ea833c",
   "metadata": {},
   "outputs": [],
   "source": [
    "def make_predictions(input_data: pd.DataFrame) -> np.ndarray:\n",
    "    model = joblib.load('models/model.joblib')\n",
    "    cat_imputer = joblib.load('models/cat_imputer.joblib')\n",
    "    encoder = joblib.load('models/encoder.joblib')\n",
    "    scaler = joblib.load('models/scaler.joblib')\n",
    "\n",
    "    # Preprocess the input data\n",
    "    num_features = ['GrLivArea', '1stFlrSF']\n",
    "    cat_features = ['SaleCondition', 'HouseStyle']\n",
    "    select_features = num_features + cat_features\n",
    "    \n",
    "    X_test = input_data[select_features]\n",
    "    \n",
    "    X_test_cat = pd.DataFrame(cat_imputer.transform(X_test[cat_features]), columns=cat_features)\n",
    "    X_test_cat_encoded = encoder.transform(X_test_cat)\n",
    "    X_test_num_scaled = scaler.transform(X_test[num_features])\n",
    "\n",
    "    X_test_transformed = np.hstack([X_test_cat_encoded, X_test_num_scaled])\n",
    "\n",
    "    # Make predictions\n",
    "    y_test_pred = model.predict(X_test_transformed)\n",
    "    \n",
    "    # Return predictions\n",
    "    return np.maximum(0, y_test_pred)\n"
   ]
  },
  {
   "cell_type": "markdown",
   "id": "6800f575-ad54-49f7-be36-c627531d1ba4",
   "metadata": {},
   "source": [
    "### Saving the preprocessed dataframe before refactoring"
   ]
  },
  {
   "cell_type": "markdown",
   "id": "45f2619c-ad57-4df2-9831-6bc98d45752d",
   "metadata": {},
   "source": [
    "Scaled the numeric features using `StandardScaler` to ensure they have a mean of 0 and standard deviation of 1.  "
   ]
  },
  {
   "cell_type": "code",
   "execution_count": 14,
   "id": "982daada-caec-4088-937c-7039c854bb60",
   "metadata": {},
   "outputs": [
    {
     "name": "stdout",
     "output_type": "stream",
     "text": [
      "Processed dataframe saved before refactoring.\n"
     ]
    }
   ],
   "source": [
    "import pandas as pd\n",
    "column_names = [f\"feature_{i}\" for i in range(X_train_processed.shape[1])]\n",
    "processed_df = pd.DataFrame(X_train_processed, columns=column_names)\n",
    "processed_df = pd.DataFrame(X_train_processed)  \n",
    "processed_df.to_parquet('/Users/purnimaprabha/Downloads/processed_df.parquet', index=False)\n",
    "\n",
    "print(\"Processed dataframe saved before refactoring.\")"
   ]
  },
  {
   "cell_type": "code",
   "execution_count": 18,
   "id": "0189c56b-a338-4d0e-8a66-ce0c56dad94d",
   "metadata": {},
   "outputs": [
    {
     "name": "stdout",
     "output_type": "stream",
     "text": [
      "Data verification successful: The processed dataframe remains unchanged after refactoring.\n"
     ]
    }
   ],
   "source": [
    "expected_processed_df = pd.read_parquet('/Users/purnimaprabha/Downloads/processed_df.parquet')\n",
    "actual_processed_df = pd.DataFrame(X_train_processed, columns=expected_processed_df.columns)\n",
    "actual_processed_df = actual_processed_df.astype(expected_processed_df.dtypes)\n",
    "pd.testing.assert_frame_equal(actual_processed_df, expected_processed_df)\n",
    "\n",
    "print(\"Data verification successful: The processed dataframe remains unchanged after refactoring.\")"
   ]
  },
  {
   "cell_type": "markdown",
   "id": "f1517af0-9eed-42bb-8b48-f1131a639dfc",
   "metadata": {},
   "source": [
    "Trained using a `RandomForestRegressor` on the processed training data."
   ]
  },
  {
   "cell_type": "markdown",
   "id": "d74efd80-2947-49d8-92aa-bcf3a563dfea",
   "metadata": {},
   "source": [
    "## models"
   ]
  },
  {
   "cell_type": "code",
   "execution_count": 96,
   "id": "af471ca4-7fcc-4428-969b-5852df3f2a3a",
   "metadata": {},
   "outputs": [
    {
     "data": {
      "text/plain": [
       "['/Users/purnimaprabha/dsp-purnima-prabha/models/scaler.joblib']"
      ]
     },
     "execution_count": 96,
     "metadata": {},
     "output_type": "execute_result"
    }
   ],
   "source": [
    "import os\n",
    "import joblib\n",
    "\n",
    "models_folder = '/Users/purnimaprabha/dsp-purnima-prabha/models/'\n",
    "os.makedirs(models_folder, exist_ok=True)\n",
    "\n",
    "joblib.dump(model, os.path.join(models_folder, 'model.joblib'))\n",
    "joblib.dump(cat_imputer, os.path.join(models_folder, 'cat_imputer.joblib'))\n",
    "joblib.dump(encoder, os.path.join(models_folder, 'encoder.joblib'))\n",
    "joblib.dump(scaler, os.path.join(models_folder, 'scaler.joblib'))"
   ]
  },
  {
   "cell_type": "markdown",
   "id": "66d138ca-2741-4e22-82df-937fef8e9d44",
   "metadata": {},
   "source": [
    "## Model Evaluation"
   ]
  },
  {
   "cell_type": "code",
   "execution_count": 39,
   "id": "698289a3-b343-43c3-9555-b04477f2c3d1",
   "metadata": {},
   "outputs": [],
   "source": [
    "def compute_rmsle(y_test: np.ndarray, y_pred: np.ndarray, precision: int = 2) -> float:\n",
    "    rmsle = np.sqrt(mean_squared_log_error(y_test, y_pred))\n",
    "    return round(rmsle, precision)"
   ]
  },
  {
   "cell_type": "markdown",
   "id": "d0da6c31-857d-492e-b576-7e6da4536697",
   "metadata": {},
   "source": [
    "# Testing build_model and make_predictions functions"
   ]
  },
  {
   "cell_type": "code",
   "execution_count": 75,
   "id": "4b3413a6-e685-4f64-8a18-5edae2065811",
   "metadata": {},
   "outputs": [
    {
     "name": "stdout",
     "output_type": "stream",
     "text": [
      "Model Performance (RMSLE): {'rmsle': 0.25}\n",
      "[125899.63798701 156717.         175613.         ... 121937.85\n",
      " 137930.9        175929.        ]\n"
     ]
    }
   ],
   "source": [
    "data = pd.read_csv('/Users/purnimaprabha/Downloads/house-prices-advanced-regression-techniques/train.csv')\n",
    "model_performance = build_model(data)\n",
    "print(f'Model Performance (RMSLE): {model_performance}')\n",
    "\n",
    "test_data = pd.read_csv('/Users/purnimaprabha/Downloads/house-prices-advanced-regression-techniques/test.csv')\n",
    "predictions = make_predictions(test_data)\n",
    "print(predictions)"
   ]
  }
 ],
 "metadata": {
  "kernelspec": {
   "display_name": "Python 3 (ipykernel)",
   "language": "python",
   "name": "python3"
  },
  "language_info": {
   "codemirror_mode": {
    "name": "ipython",
    "version": 3
   },
   "file_extension": ".py",
   "mimetype": "text/x-python",
   "name": "python",
   "nbconvert_exporter": "python",
   "pygments_lexer": "ipython3",
   "version": "3.12.7"
  }
 },
 "nbformat": 4,
 "nbformat_minor": 5
}
